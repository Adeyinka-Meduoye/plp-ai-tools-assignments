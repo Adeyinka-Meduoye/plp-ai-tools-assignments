# ============================================================
# AI Tools Assignment - Task 1
# Classical Machine Learning using Scikit-learn
# Dataset: Iris Species
# ============================================================

# Import libraries
import numpy as np
import pandas as pd
from sklearn.datasets import load_iris
from sklearn.model_selection import train_test_split
from sklearn.tree import DecisionTreeClassifier
from sklearn.metrics import accuracy_score, precision_score, recall_score, confusion_matrix, classification_report
import matplotlib.pyplot as plt
import seaborn as sns

# 1️ Load dataset
iris = load_iris()
X = pd.DataFrame(iris.data, columns=iris.feature_names)
y = pd.Series(iris.target, name='species')

# 2️ Check for missing values (Iris has none, but this is best practice)
print("Missing values in each column:\n", X.isnull().sum())

# 3️ Split data into training and testing sets
X_train, X_test, y_train, y_test = train_test_split(X, y, test_size=0.2, random_state=42)

# 4️ Initialize Decision Tree Classifier
model = DecisionTreeClassifier(random_state=42)

# 5️ Train the model
model.fit(X_train, y_train)

# 6️ Make predictions
y_pred = model.predict(X_test)

# 7️ Evaluate model
acc = accuracy_score(y_test, y_pred)
prec = precision_score(y_test, y_pred, average='macro')
rec = recall_score(y_test, y_pred, average='macro')

print(f"Accuracy: {acc:.4f}")
print(f"Precision: {prec:.4f}")
print(f"Recall: {rec:.4f}")
print("\nClassification Report:\n", classification_report(y_test, y_pred, target_names=iris.target_names))

# 8️ Visualize confusion matrix
cm = confusion_matrix(y_test, y_pred)
plt.figure(figsize=(6,4))
sns.heatmap(cm, annot=True, fmt='d', cmap='Blues', xticklabels=iris.target_names, yticklabels=iris.target_names)
plt.xlabel('Predicted')
plt.ylabel('Actual')
plt.title('Confusion Matrix - Iris Decision Tree')
plt.show()
