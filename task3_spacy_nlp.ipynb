# ============================================================
# AI Tools Assignment - Task 3
# Natural Language Processing with spaCy
# Dataset: Amazon Product Reviews (Sample Texts)
# Goal: Perform NER + Rule-based Sentiment Analysis
# ============================================================

!pip install spacy
import spacy

# 1️ Load English NLP pipeline
nlp = spacy.load("en_core_web_sm")

# 2️ Sample Amazon review texts
reviews = [
    "I love the new Apple iPhone 14! The camera quality is amazing.",
    "The Samsung Galaxy Watch feels cheap and slow.",
    "Nike running shoes are comfortable but the color faded quickly.",
    "I bought a Dell laptop last month and it's performing great.",
    "The JBL Bluetooth speaker is terrible, battery drains fast."
]

# 3️ Define simple rule-based sentiment function
def rule_based_sentiment(text):
    positive_words = ["good", "great", "amazing", "excellent", "love", "wonderful", "best", "awesome"]
    negative_words = ["bad", "poor", "terrible", "slow", "cheap", "worst", "hate", "disappointing"]
    text_lower = text.lower()
    pos = sum(word in text_lower for word in positive_words)
    neg = sum(word in text_lower for word in negative_words)
    if pos > neg:
        return "Positive"
    elif neg > pos:
        return "Negative"
    else:
        return "Neutral"

# 4️ Process each review
for review in reviews:
    doc = nlp(review)
    print(f"\n🔹 Review: {review}")
    
    # Extract Named Entities (Products, Brands, etc.)
    entities = [(ent.text, ent.label_) for ent in doc.ents]
    print(f"Entities Found: {entities if entities else 'None'}")
    
    # Rule-based sentiment
    sentiment = rule_based_sentiment(review)
    print(f"Sentiment: {sentiment}")
